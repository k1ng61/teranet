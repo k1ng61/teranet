{
  "cells": [
    {
      "cell_type": "code",
      "source": [
        "from azureml.core import Workspace\r\n",
        "ws = Workspace.from_config()\r\n",
        "\r\n",
        "print('connected to:', ws.name)"
      ],
      "outputs": [
        {
          "output_type": "stream",
          "name": "stdout",
          "text": [
            "connected to: machinelearning\n"
          ]
        }
      ],
      "execution_count": 144 ,
      "metadata": {
        "collapsed": true,
        "jupyter": {
          "source_hidden": false,
          "outputs_hidden": false
        },
        "nteract": {
          "transient": {
            "deleting": false
          }
        },
        "gather": {
          "logged": 1617563944258
        }
      }
    },
    {
      "cell_type": "code",
      "source": [
        "from azureml.core.model import Model\r\n",
        "import os\r\n",
        "\r\n",
        "# model =  Model.register(workspace= ws, \r\n",
        "#                         model_path= 'trees-v1.h5', \r\n",
        "#                         model_name= 'Vegetation',\r\n",
        "#                         tags= {'tensorflow': 'wildfire spatial prediction demo'}, \r\n",
        "#                         description= 'Image Segmentation on vegetation terrain')\r\n",
        "\r\n",
        "model = Model(ws, name= 'Vegetation', version= 1)\r\n",
        "print(model.name, 'model loaded')"
      ],
      "outputs": [
        {
          "output_type": "stream",
          "name": "stdout",
          "text": [
            "Vegetation model loaded\n"
          ]
        }
      ],
      "execution_count": 145,
      "metadata": {
        "collapsed": true,
        "jupyter": {
          "source_hidden": false,
          "outputs_hidden": false
        },
        "nteract": {
          "transient": {
            "deleting": false
          }
        },
        "gather": {
          "logged": 1617563945248
        }
      }
    },
    {
      "cell_type": "code",
      "source": [
        "from azureml.core.environment import Environment\r\n",
        "from azureml.core.model import InferenceConfig\r\n",
        "from azureml.core.webservice import AciWebservice\r\n",
        "\r\n",
        "env = Environment('ModelTrees')\r\n",
        "\r\n",
        "\r\n",
        "for pip_package in ['inference-schema[numpy-support]', 'tensorflow', 'joblib', 'keras', 'pillow==5.4.1', 'azureml-contrib-services', 'azureml-defaults']:\r\n",
        "    env.python.conda_dependencies.add_pip_package(pip_package)\r\n",
        "\r\n",
        "inference_config = InferenceConfig(entry_script= 'score.py', environment= env)\r\n",
        "aci_config = AciWebservice.deploy_configuration(cpu_cores=1, memory_gb=1)\r\n",
        "\r\n",
        "\r\n",
        "print(env, inference_config)"
      ],
      "outputs": [
        {
          "output_type": "stream",
          "name": "stdout",
          "text": [
            "Environment(Name: ModelTrees,\n",
            "Version: None) InferenceConfig(entry_script=score.py, runtime=None, conda_file=None, extra_docker_file_steps=None, source_directory=None, enable_gpu=None, base_image=None, base_image_registry=<azureml.core.container_registry.ContainerRegistry object at 0x7f94615d1668>)\n"
          ]
        }
      ],
      "execution_count": 146,
      "metadata": {
        "collapsed": true,
        "jupyter": {
          "source_hidden": false,
          "outputs_hidden": false
        },
        "nteract": {
          "transient": {
            "deleting": false
          }
        },
        "gather": {
          "logged": 1617563946316
        }
      }
    },
    {
      "cell_type": "code",
      "source": [
        "from azureml.core.webservice import LocalWebservice, Webservice\r\n",
        "\r\n",
        "deployment_config = LocalWebservice.deploy_configuration(port=8000)\r\n",
        "service = Model.deploy(ws, \"myservice1\", [model], inference_config, aci_config)\r\n",
        "service.wait_for_deployment(show_output = True)\r\n",
        "print(service.state)"
      ],
      "outputs": [
        {
          "output_type": "stream",
          "name": "stdout",
          "text": [
            "Tips: You can try get_logs(): https://aka.ms/debugimage#dockerlog or local deployment: https://aka.ms/debugimage#debug-locally to debug if deployment takes longer than 10 minutes.\n",
            "Running\n",
            "2021-04-04 19:19:44+00:00 Creating Container Registry if not exists.\n",
            "2021-04-04 19:19:44+00:00 Registering the environment.\n",
            "2021-04-04 19:19:48+00:00 Use the existing image.\n",
            "2021-04-04 19:19:48+00:00 Generating deployment configuration..\n",
            "2021-04-04 19:19:52+00:00 Submitting deployment to compute.\n",
            "2021-04-04 19:19:57+00:00 Checking the status of deployment myservice1..\n",
            "2021-04-04 19:23:00+00:00 Checking the status of inference endpoint myservice1.\n",
            "Succeeded\n",
            "ACI service creation operation finished, operation \"Succeeded\"\n",
            "Healthy\n"
          ]
        }
      ],
      "execution_count": 149,
      "metadata": {
        "collapsed": true,
        "jupyter": {
          "source_hidden": false,
          "outputs_hidden": false
        },
        "nteract": {
          "transient": {
            "deleting": false
          }
        },
        "gather": {
          "logged": 1617564188263
        }
      }
    },
    {
      "cell_type": "code",
      "source": [
        "service"
      ],
      "outputs": [
        {
          "output_type": "execute_result",
          "execution_count": 152,
          "data": {
            "text/plain": "AciWebservice(workspace=Workspace.create(name='machinelearning', subscription_id='60b11d04-49e1-47c9-8768-f169e5b4d0fb', resource_group='resources'), name=myservice1, image_id=None, compute_type=None, state=ACI, scoring_uri=Healthy, tags=http://67515655-f00a-44a0-a447-22a76351d991.eastus.azurecontainer.io/score, properties={}, created_by={'hasInferenceSchema': 'False', 'hasHttps': 'False'})"
          },
          "metadata": {}
        }
      ],
      "execution_count": 152,
      "metadata": {
        "collapsed": true,
        "jupyter": {
          "source_hidden": false,
          "outputs_hidden": false
        },
        "nteract": {
          "transient": {
            "deleting": false
          }
        },
        "gather": {
          "logged": 1617564241597
        }
      }
    },
    {
      "cell_type": "code",
      "source": [
        "import json\r\n",
        "\r\n",
        "sample_input = json.dumps({\r\n",
        "    'data': 'asfd'\r\n",
        "})\r\n",
        "\r\n",
        "service.run(sample_input)"
      ],
      "outputs": [
        {
          "output_type": "stream",
          "name": "stdout",
          "text": [
            "Checking container health...\n",
            "Local webservice is running at http://localhost:8890\n"
          ]
        },
        {
          "output_type": "execute_result",
          "execution_count": 66,
          "data": {
            "text/plain": "'azureml-models/Vegetation/1/trees-v1.h5'"
          },
          "metadata": {}
        }
      ],
      "execution_count": 66,
      "metadata": {
        "collapsed": true,
        "jupyter": {
          "source_hidden": false,
          "outputs_hidden": false
        },
        "nteract": {
          "transient": {
            "deleting": false
          }
        },
        "gather": {
          "logged": 1617502489906
        }
      }
    },
    {
      "cell_type": "code",
      "source": [
        "import requests \r\n",
        "from PIL import Image\r\n",
        "from matplotlib import pyplot as plt\r\n",
        "import numpy as np\r\n",
        "\r\n",
        "image_name = '26.png'\r\n",
        "\r\n",
        "img = Image.open(image_name)\r\n",
        "orig_size = img.size\r\n",
        "\r\n",
        "files = {'image': open(image_name, 'rb').read()}\r\n",
        "response = requests.post('http://67515655-f00a-44a0-a447-22a76351d991.eastus.azurecontainer.io/score', files= files)\r\n",
        "\r\n",
        "new_img = response.json()\r\n",
        "new_img = np.array(new_img, dtype='uint8')\r\n",
        "plt.imshow(new_img)"
      ],
      "outputs": [
        {
          "output_type": "execute_result",
          "execution_count": 169,
          "data": {
            "text/plain": "<matplotlib.image.AxesImage at 0x7f94602d1f98>"
          },
          "metadata": {}
        },
        {
          "output_type": "display_data",
          "data": {
            "text/plain": "<Figure size 432x288 with 1 Axes>",
            "image/png": "[encoded data removed]"
          },
          "metadata": {
            "needs_background": "light"
          }
        }
      ],
      "execution_count": 169,
      "metadata": {
        "collapsed": true,
        "jupyter": {
          "source_hidden": false,
          "outputs_hidden": false
        },
        "nteract": {
          "transient": {
            "deleting": false
          }
        },
        "gather": {
          "logged": 1617579799322
        }
      }
    },
    {
      "cell_type": "code",
      "source": [
        "service.reload()"
      ],
      "outputs": [
        {
          "output_type": "stream",
          "name": "stdout",
          "text": [
            "Container has been successfully cleaned up.\n",
            "Starting Docker container...\n",
            "Docker container running.\n"
          ]
        }
      ],
      "execution_count": 136,
      "metadata": {
        "collapsed": true,
        "jupyter": {
          "source_hidden": false,
          "outputs_hidden": false
        },
        "nteract": {
          "transient": {
            "deleting": false
          }
        },
        "gather": {
          "logged": 1617504225746
        }
      }
    },
    {
      "cell_type": "code",
      "source": [
        "service.update(\r\n",
        "    models= [model],\r\n",
        "    inference_config= inference_config,\r\n",
        "    deployment_config= deployment_config\r\n",
        ")"
      ],
      "outputs": [
        {
          "output_type": "stream",
          "name": "stdout",
          "text": [
            "Downloading model Vegetation:1 to /tmp/azureml_mx2t8okg/Vegetation/1\n",
            "Generating Docker build context.\n",
            "2021/04/04 02:03:25 Downloading source code...\n",
            "2021/04/04 02:03:27 Finished downloading source code\n",
            "2021/04/04 02:03:27 Creating Docker network: acb_default_network, driver: 'bridge'\n",
            "2021/04/04 02:03:27 Successfully set up Docker network: acb_default_network\n",
            "2021/04/04 02:03:27 Setting up Docker configuration...\n",
            "2021/04/04 02:03:28 Successfully set up Docker configuration\n",
            "2021/04/04 02:03:28 Logging in to registry: e1beb0b7f8eb4722a424ef506535ae8b.azurecr.io\n",
            "2021/04/04 02:03:29 Successfully logged into e1beb0b7f8eb4722a424ef506535ae8b.azurecr.io\n",
            "2021/04/04 02:03:29 Executing step ID: acb_step_0. Timeout(sec): 5400, Working directory: '', Network: 'acb_default_network'\n",
            "2021/04/04 02:03:29 Scanning for dependencies...\n",
            "2021/04/04 02:03:30 Successfully scanned dependencies\n",
            "2021/04/04 02:03:30 Launching container with name: acb_step_0\n",
            "Sending build context to Docker daemon  66.56kB\n",
            "Step 1/18 : FROM mcr.microsoft.com/azureml/intelmpi2018.3-ubuntu16.04:20210220.v1@sha256:45f047999ab2ced61a2fd0cf8d8421f796ca05b8423c1a0ac652791a321bff9a\n",
            "sha256:45f047999ab2ced61a2fd0cf8d8421f796ca05b8423c1a0ac652791a321bff9a: Pulling from azureml/intelmpi2018.3-ubuntu16.04\n",
            "4007a89234b4: Already exists\n",
            "5dfa26c6b9c9: Already exists\n",
            "0ba7bf18aa40: Already exists\n",
            "4c6ec688ebe3: Already exists\n",
            "a2874ccdee09: Pulling fs layer\n",
            "84e6fa394f53: Pulling fs layer\n",
            "cde35e537c55: Pulling fs layer\n",
            "08224915e098: Pulling fs layer\n",
            "3e72e2b08f2a: Pulling fs layer\n",
            "503a95eb7b7f: Pulling fs layer\n",
            "cac267f3f656: Pulling fs layer\n",
            "9c9189719fce: Pulling fs layer\n",
            "08224915e098: Waiting\n",
            "3e72e2b08f2a: Waiting\n",
            "503a95eb7b7f: Waiting\n",
            "cac267f3f656: Waiting\n",
            "9c9189719fce: Waiting\n",
            "84e6fa394f53: Verifying Checksum\n",
            "84e6fa394f53: Download complete\n",
            "08224915e098: Verifying Checksum\n",
            "08224915e098: Download complete\n",
            "3e72e2b08f2a: Verifying Checksum\n",
            "3e72e2b08f2a: Download complete\n",
            "503a95eb7b7f: Retrying in 5 seconds\n",
            "503a95eb7b7f: Retrying in 4 seconds\n",
            "503a95eb7b7f: Retrying in 3 seconds\n",
            "a2874ccdee09: Verifying Checksum\n",
            "a2874ccdee09: Download complete\n",
            "cac267f3f656: Verifying Checksum\n",
            "cac267f3f656: Download complete\n",
            "9c9189719fce: Verifying Checksum\n",
            "9c9189719fce: Download complete\n",
            "503a95eb7b7f: Retrying in 2 seconds\n",
            "503a95eb7b7f: Retrying in 1 second\n",
            "503a95eb7b7f: Verifying Checksum\n",
            "503a95eb7b7f: Download complete\n",
            "cde35e537c55: Verifying Checksum\n",
            "cde35e537c55: Download complete\n",
            "a2874ccdee09: Pull complete\n",
            "84e6fa394f53: Pull complete\n",
            "cde35e537c55: Pull complete\n",
            "08224915e098: Pull complete\n",
            "3e72e2b08f2a: Pull complete\n",
            "503a95eb7b7f: Pull complete\n",
            "cac267f3f656: Pull complete\n",
            "9c9189719fce: Pull complete\n",
            "Digest: sha256:45f047999ab2ced61a2fd0cf8d8421f796ca05b8423c1a0ac652791a321bff9a\n",
            "Status: Downloaded newer image for mcr.microsoft.com/azureml/intelmpi2018.3-ubuntu16.04:20210220.v1@sha256:45f047999ab2ced61a2fd0cf8d8421f796ca05b8423c1a0ac652791a321bff9a\n",
            " ---> b79635653e9e\n",
            "Step 2/18 : USER root\n",
            " ---> Running in 2b8e227dcfd2\n",
            "Removing intermediate container 2b8e227dcfd2\n",
            " ---> eef059eb6425\n",
            "Step 3/18 : RUN mkdir -p $HOME/.cache\n",
            " ---> Running in cc85825a3f03\n",
            "Removing intermediate container cc85825a3f03\n",
            " ---> 6c1d990984cf\n",
            "Step 4/18 : WORKDIR /\n",
            " ---> Running in 9abef6c4db38\n",
            "Removing intermediate container 9abef6c4db38\n",
            " ---> 4c68d77f039f\n",
            "Step 5/18 : COPY azureml-environment-setup/99brokenproxy /etc/apt/apt.conf.d/\n",
            " ---> a6a61618756b\n",
            "Step 6/18 : RUN if dpkg --compare-versions `conda --version | grep -oE '[^ ]+$'` lt 4.4.11; then conda install conda==4.4.11; fi\n",
            " ---> Running in 17af7e0b974e\n",
            "Removing intermediate container 17af7e0b974e\n",
            " ---> 55d51ed36d5a\n",
            "Step 7/18 : COPY azureml-environment-setup/mutated_conda_dependencies.yml azureml-environment-setup/mutated_conda_dependencies.yml\n",
            " ---> cbfc84cdbfd2\n",
            "Step 8/18 : RUN ldconfig /usr/local/cuda/lib64/stubs && conda env create -p /azureml-envs/azureml_a86867ab0c88b0e11c9e15473e0b34b0 -f azureml-environment-setup/mutated_conda_dependencies.yml && rm -rf \"$HOME/.cache/pip\" && conda clean -aqy && CONDA_ROOT_DIR=$(conda info --root) && rm -rf \"$CONDA_ROOT_DIR/pkgs\" && find \"$CONDA_ROOT_DIR\" -type d -name __pycache__ -exec rm -rf {} + && ldconfig\n",
            " ---> Running in ab9c446fd253\n",
            "Warning: you have pip-installed dependencies in your environment file, but you do not list pip itself as one of your conda dependencies.  Conda may not use the correct pip to install your packages, and they may end up in the wrong place.  Please add an explicit pip dependency.  I'm adding one for you, but still nagging you.\n",
            "Collecting package metadata (repodata.json): ...working... \n",
            "done\n",
            "Solving environment: ...working... done\n",
            "\n",
            "Downloading and Extracting Packages\n",
            "pip-20.2.4           | 2.0 MB    | ########## | 100% \n",
            "sqlite-3.23.1        | 1.5 MB    | ########## | 100% \n",
            "python-3.6.2         | 27.0 MB   | ########## | 100% \n",
            "certifi-2020.6.20    | 160 KB    | ########## | 100% \n",
            "readline-7.0         | 387 KB    | ########## | 100% \n",
            "zlib-1.2.11          | 120 KB    | ########## | 100% \n",
            "openssl-1.0.2u       | 3.1 MB    | ########## | 100% \n",
            "tk-8.6.10            | 3.2 MB    | ########## | 100% \n",
            "wheel-0.35.1         | 36 KB     | ########## | 100% \n",
            "libstdcxx-ng-9.1.0   | 4.0 MB    | ########## | 100% \n",
            "ncurses-6.0          | 907 KB    | ########## | 100% \n",
            "libgcc-ng-9.1.0      | 8.1 MB    | ########## | 100% \n",
            "setuptools-50.3.0    | 891 KB    | ########## | 100% \n",
            "ca-certificates-2020 | 128 KB    | ########## | 100% \n",
            "xz-5.2.5             | 438 KB    | ########## | 100% \n",
            "libedit-3.1          | 171 KB    | ########## | 100% \n",
            "libffi-3.2.1         | 52 KB     | ########## | 100% \n",
            "Preparing transaction: ...working... done\n",
            "Verifying transaction: ...working... done\n",
            "Executing transaction: ...working... done\n",
            "\n",
            "Ran pip subprocess with arguments:\n",
            "['/azureml-envs/azureml_a86867ab0c88b0e11c9e15473e0b34b0/bin/python', '-m', 'pip', 'install', '-U', '-r', '/azureml-environment-setup/condaenv.z0ul8q0n.requirements.txt']\n",
            "Pip subprocess output:\n",
            "Collecting inference-schema[numpy-support]\n",
            "  Downloading inference_schema-1.1.0-py3-none-any.whl (19 kB)\n",
            "Collecting tensorflow\n",
            "  Downloading tensorflow-2.4.1-cp36-cp36m-manylinux2010_x86_64.whl (394.3 MB)\n",
            "Collecting joblib\n",
            "  Downloading joblib-1.0.1-py3-none-any.whl (303 kB)\n",
            "Collecting keras\n",
            "  Downloading Keras-2.4.3-py2.py3-none-any.whl (36 kB)\n",
            "Collecting pillow==5.4.1\n",
            "  Downloading Pillow-5.4.1-cp36-cp36m-manylinux1_x86_64.whl (2.0 MB)\n",
            "Collecting azureml-contrib-services\n",
            "  Downloading azureml_contrib_services-1.25.0-py3-none-any.whl (5.8 kB)\n",
            "Collecting azureml-defaults\n",
            "  Downloading azureml_defaults-1.25.0-py3-none-any.whl (3.1 kB)\n",
            "Collecting wrapt==1.11.1\n",
            "  Downloading wrapt-1.11.1.tar.gz (27 kB)\n",
            "Collecting python-dateutil>=2.5.3\n",
            "  Downloading python_dateutil-2.8.1-py2.py3-none-any.whl (227 kB)\n",
            "Collecting pytz>=2017.2\n",
            "  Downloading pytz-2021.1-py2.py3-none-any.whl (510 kB)\n",
            "Collecting numpy>=1.13.0; extra == \"numpy-support\"\n",
            "  Downloading numpy-1.19.5-cp36-cp36m-manylinux2010_x86_64.whl (14.8 MB)\n",
            "Collecting six~=1.15.0\n",
            "  Downloading six-1.15.0-py2.py3-none-any.whl (10 kB)\n",
            "Collecting termcolor~=1.1.0\n",
            "  Downloading termcolor-1.1.0.tar.gz (3.9 kB)\n",
            "Collecting gast==0.3.3\n",
            "  Downloading gast-0.3.3-py2.py3-none-any.whl (9.7 kB)\n",
            "Collecting protobuf>=3.9.2\n",
            "  Downloading protobuf-3.15.7-cp36-cp36m-manylinux1_x86_64.whl (1.0 MB)\n",
            "Collecting h5py~=2.10.0\n",
            "  Downloading h5py-2.10.0-cp36-cp36m-manylinux1_x86_64.whl (2.9 MB)\n",
            "Collecting google-pasta~=0.2\n",
            "  Downloading google_pasta-0.2.0-py3-none-any.whl (57 kB)\n",
            "Requirement already satisfied, skipping upgrade: wheel~=0.35 in /azureml-envs/azureml_a86867ab0c88b0e11c9e15473e0b34b0/lib/python3.6/site-packages (from tensorflow->-r /azureml-environment-setup/condaenv.z0ul8q0n.requirements.txt (line 2)) (0.35.1)\n",
            "Collecting keras-preprocessing~=1.1.2\n",
            "  Downloading Keras_Preprocessing-1.1.2-py2.py3-none-any.whl (42 kB)\n",
            "Collecting tensorboard~=2.4\n",
            "  Downloading tensorboard-2.4.1-py3-none-any.whl (10.6 MB)\n",
            "Collecting tensorflow-estimator<2.5.0,>=2.4.0\n",
            "  Downloading tensorflow_estimator-2.4.0-py2.py3-none-any.whl (462 kB)\n",
            "Collecting absl-py~=0.10\n",
            "  Downloading absl_py-0.12.0-py3-none-any.whl (129 kB)\n",
            "Collecting typing-extensions~=3.7.4\n",
            "  Downloading typing_extensions-3.7.4.3-py3-none-any.whl (22 kB)\n",
            "Collecting grpcio~=1.32.0\n",
            "  Downloading grpcio-1.32.0-cp36-cp36m-manylinux2014_x86_64.whl (3.8 MB)\n",
            "Collecting astunparse~=1.6.3\n",
            "  Downloading astunparse-1.6.3-py2.py3-none-any.whl (12 kB)\n",
            "Collecting flatbuffers~=1.12.0\n",
            "  Downloading flatbuffers-1.12-py2.py3-none-any.whl (15 kB)\n",
            "Collecting opt-einsum~=3.3.0\n",
            "  Downloading opt_einsum-3.3.0-py3-none-any.whl (65 kB)\n",
            "Collecting pyyaml\n",
            "  Downloading PyYAML-5.4.1-cp36-cp36m-manylinux1_x86_64.whl (640 kB)\n",
            "Collecting scipy>=0.14\n",
            "  Downloading scipy-1.5.4-cp36-cp36m-manylinux1_x86_64.whl (25.9 MB)\n",
            "Collecting Flask<2.0,>=1.0\n",
            "  Downloading Flask-1.1.2-py2.py3-none-any.whl (94 kB)\n",
            "Collecting azureml-core~=1.25.0\n",
            "  Downloading azureml_core-1.25.0-py3-none-any.whl (2.2 MB)\n",
            "Collecting gunicorn==19.9.0\n",
            "  Downloading gunicorn-19.9.0-py2.py3-none-any.whl (112 kB)\n",
            "Collecting configparser==3.7.4\n",
            "  Downloading configparser-3.7.4-py2.py3-none-any.whl (22 kB)\n",
            "Collecting applicationinsights>=0.11.7\n",
            "  Downloading applicationinsights-0.11.9-py2.py3-none-any.whl (58 kB)\n",
            "Collecting werkzeug<=1.0.1,>=0.16.1\n",
            "  Downloading Werkzeug-1.0.1-py2.py3-none-any.whl (298 kB)\n",
            "Collecting json-logging-py==0.2\n",
            "  Downloading json-logging-py-0.2.tar.gz (3.6 kB)\n",
            "Collecting azureml-model-management-sdk==1.0.1b6.post1\n",
            "  Downloading azureml_model_management_sdk-1.0.1b6.post1-py2.py3-none-any.whl (130 kB)\n",
            "Collecting azureml-dataset-runtime[fuse]~=1.25.0\n",
            "  Downloading azureml_dataset_runtime-1.25.0-py3-none-any.whl (3.4 kB)\n",
            "Collecting requests<3,>=2.21.0\n",
            "  Downloading requests-2.25.1-py2.py3-none-any.whl (61 kB)\n",
            "Requirement already satisfied, skipping upgrade: setuptools>=41.0.0 in /azureml-envs/azureml_a86867ab0c88b0e11c9e15473e0b34b0/lib/python3.6/site-packages (from tensorboard~=2.4->tensorflow->-r /azureml-environment-setup/condaenv.z0ul8q0n.requirements.txt (line 2)) (50.3.0.post20201006)\n",
            "Collecting tensorboard-plugin-wit>=1.6.0\n",
            "  Downloading tensorboard_plugin_wit-1.8.0-py3-none-any.whl (781 kB)\n",
            "Collecting google-auth-oauthlib<0.5,>=0.4.1\n",
            "  Downloading google_auth_oauthlib-0.4.4-py2.py3-none-any.whl (18 kB)\n",
            "Collecting markdown>=2.6.8\n",
            "  Downloading Markdown-3.3.4-py3-none-any.whl (97 kB)\n",
            "Collecting google-auth<2,>=1.6.3\n",
            "  Downloading google_auth-1.28.0-py2.py3-none-any.whl (136 kB)\n",
            "Collecting Jinja2>=2.10.1\n",
            "  Downloading Jinja2-2.11.3-py2.py3-none-any.whl (125 kB)\n",
            "Collecting click>=5.1\n",
            "  Downloading click-7.1.2-py2.py3-none-any.whl (82 kB)\n",
            "Collecting itsdangerous>=0.24\n",
            "  Downloading itsdangerous-1.1.0-py2.py3-none-any.whl (16 kB)\n",
            "Collecting azure-mgmt-storage<16.0.0,>=1.5.0\n",
            "  Downloading azure_mgmt_storage-11.2.0-py2.py3-none-any.whl (547 kB)\n",
            "Collecting msrest>=0.5.1\n",
            "  Downloading msrest-0.6.21-py2.py3-none-any.whl (85 kB)\n",
            "Collecting ndg-httpsclient\n",
            "  Downloading ndg_httpsclient-0.5.1-py3-none-any.whl (34 kB)\n",
            "Collecting adal>=1.2.0\n",
            "  Downloading adal-1.2.6-py2.py3-none-any.whl (55 kB)\n",
            "Collecting jsonpickle\n",
            "  Downloading jsonpickle-2.0.0-py2.py3-none-any.whl (37 kB)\n",
            "Collecting PyJWT<3.0.0\n",
            "  Downloading PyJWT-2.0.1-py3-none-any.whl (15 kB)\n",
            "Collecting azure-mgmt-resource<15.0.0,>=1.2.1\n",
            "  Downloading azure_mgmt_resource-12.1.0-py2.py3-none-any.whl (1.1 MB)\n",
            "Collecting ruamel.yaml>=0.15.35\n",
            "  Downloading ruamel.yaml-0.17.2-py3-none-any.whl (101 kB)\n",
            "Collecting contextlib2\n",
            "  Downloading contextlib2-0.6.0.post1-py2.py3-none-any.whl (9.8 kB)\n",
            "Collecting azure-mgmt-containerregistry>=2.0.0\n",
            "  Downloading azure_mgmt_containerregistry-2.8.0-py2.py3-none-any.whl (718 kB)\n",
            "Collecting azure-mgmt-authorization<1.0.0,>=0.40.0\n",
            "  Downloading azure_mgmt_authorization-0.61.0-py2.py3-none-any.whl (94 kB)\n",
            "Collecting pyopenssl<21.0.0\n",
            "  Downloading pyOpenSSL-20.0.1-py2.py3-none-any.whl (54 kB)\n",
            "Collecting SecretStorage\n",
            "  Downloading SecretStorage-3.3.1-py3-none-any.whl (15 kB)\n",
            "Collecting pathspec\n",
            "  Downloading pathspec-0.8.1-py2.py3-none-any.whl (28 kB)\n",
            "Collecting msrestazure>=0.4.33\n",
            "  Downloading msrestazure-0.6.4-py2.py3-none-any.whl (40 kB)\n",
            "Collecting docker\n",
            "  Downloading docker-4.4.4-py2.py3-none-any.whl (147 kB)\n",
            "Collecting backports.tempfile\n",
            "  Downloading backports.tempfile-1.0-py2.py3-none-any.whl (4.4 kB)\n",
            "Collecting cryptography!=1.9,!=2.0.*,!=2.1.*,!=2.2.*,<4.0.0\n",
            "  Downloading cryptography-3.4.7-cp36-abi3-manylinux2014_x86_64.whl (3.2 MB)\n",
            "Collecting urllib3>=1.23\n",
            "  Downloading urllib3-1.26.4-py2.py3-none-any.whl (153 kB)\n",
            "Collecting azure-common>=1.1.12\n",
            "  Downloading azure_common-1.1.27-py2.py3-none-any.whl (12 kB)\n",
            "Collecting jmespath\n",
            "  Downloading jmespath-0.10.0-py2.py3-none-any.whl (24 kB)\n",
            "Collecting azure-graphrbac<1.0.0,>=0.40.0\n",
            "  Downloading azure_graphrbac-0.61.1-py2.py3-none-any.whl (141 kB)\n",
            "Collecting azure-mgmt-keyvault<7.0.0,>=0.40.0\n",
            "  Downloading azure_mgmt_keyvault-2.2.0-py2.py3-none-any.whl (89 kB)\n",
            "Collecting dill>=0.2.7.1\n",
            "  Downloading dill-0.3.3-py2.py3-none-any.whl (81 kB)\n",
            "Collecting liac-arff>=2.1.1\n",
            "  Downloading liac-arff-2.5.0.tar.gz (13 kB)\n",
            "Collecting pandas>=0.20.2\n",
            "  Downloading pandas-1.1.5-cp36-cp36m-manylinux1_x86_64.whl (9.5 MB)\n",
            "Collecting pyarrow<2.0.0,>=0.17.0\n",
            "  Downloading pyarrow-1.0.1-cp36-cp36m-manylinux2014_x86_64.whl (17.3 MB)\n",
            "Collecting azureml-dataprep<2.12.0a,>=2.11.0a\n",
            "  Downloading azureml_dataprep-2.11.2-py3-none-any.whl (39.4 MB)\n",
            "Collecting fusepy<4.0.0,>=3.0.1; extra == \"fuse\"\n",
            "  Downloading fusepy-3.0.1.tar.gz (11 kB)\n",
            "Collecting chardet<5,>=3.0.2\n",
            "  Downloading chardet-4.0.0-py2.py3-none-any.whl (178 kB)\n",
            "Collecting idna<3,>=2.5\n",
            "  Downloading idna-2.10-py2.py3-none-any.whl (58 kB)\n",
            "Requirement already satisfied, skipping upgrade: certifi>=2017.4.17 in /azureml-envs/azureml_a86867ab0c88b0e11c9e15473e0b34b0/lib/python3.6/site-packages (from requests<3,>=2.21.0->tensorboard~=2.4->tensorflow->-r /azureml-environment-setup/condaenv.z0ul8q0n.requirements.txt (line 2)) (2020.6.20)\n",
            "Collecting requests-oauthlib>=0.7.0\n",
            "  Downloading requests_oauthlib-1.3.0-py2.py3-none-any.whl (23 kB)\n",
            "Collecting importlib-metadata; python_version < \"3.8\"\n",
            "  Downloading importlib_metadata-3.10.0-py3-none-any.whl (14 kB)\n",
            "Collecting rsa<5,>=3.1.4; python_version >= \"3.6\"\n",
            "  Downloading rsa-4.7.2-py3-none-any.whl (34 kB)\n",
            "Collecting cachetools<5.0,>=2.0.0\n",
            "  Downloading cachetools-4.2.1-py3-none-any.whl (12 kB)\n",
            "Collecting pyasn1-modules>=0.2.1\n",
            "  Downloading pyasn1_modules-0.2.8-py2.py3-none-any.whl (155 kB)\n",
            "Collecting MarkupSafe>=0.23\n",
            "  Downloading MarkupSafe-1.1.1-cp36-cp36m-manylinux2010_x86_64.whl (32 kB)\n",
            "Collecting isodate>=0.6.0\n",
            "  Downloading isodate-0.6.0-py2.py3-none-any.whl (45 kB)\n",
            "Collecting pyasn1>=0.1.1\n",
            "  Downloading pyasn1-0.4.8-py2.py3-none-any.whl (77 kB)\n",
            "Collecting ruamel.yaml.clib>=0.1.2; platform_python_implementation == \"CPython\" and python_version < \"3.10\"\n",
            "  Downloading ruamel.yaml.clib-0.2.2-cp36-cp36m-manylinux1_x86_64.whl (549 kB)\n",
            "Collecting jeepney>=0.6\n",
            "  Downloading jeepney-0.6.0-py3-none-any.whl (45 kB)\n",
            "Collecting websocket-client>=0.32.0\n",
            "  Downloading websocket_client-0.58.0-py2.py3-none-any.whl (61 kB)\n",
            "Collecting backports.weakref\n",
            "  Downloading backports.weakref-1.0.post1-py2.py3-none-any.whl (5.2 kB)\n",
            "Collecting cffi>=1.12\n",
            "  Downloading cffi-1.14.5-cp36-cp36m-manylinux1_x86_64.whl (401 kB)\n",
            "Collecting cloudpickle<2.0.0,>=1.1.0\n",
            "  Downloading cloudpickle-1.6.0-py3-none-any.whl (23 kB)\n",
            "Collecting azureml-dataprep-native<31.0.0,>=30.0.0\n",
            "  Downloading azureml_dataprep_native-30.0.0-cp36-cp36m-manylinux1_x86_64.whl (1.3 MB)\n",
            "Collecting azure-identity<1.5.0,>=1.2.0\n",
            "  Downloading azure_identity-1.4.1-py2.py3-none-any.whl (86 kB)\n",
            "Collecting azureml-dataprep-rslex<1.10.0a,>=1.9.0dev0\n",
            "  Downloading azureml_dataprep_rslex-1.9.1-cp36-cp36m-manylinux2010_x86_64.whl (9.0 MB)\n",
            "Collecting dotnetcore2<3.0.0,>=2.1.14\n",
            "  Downloading dotnetcore2-2.1.20-py3-none-manylinux1_x86_64.whl (28.7 MB)\n",
            "Collecting oauthlib>=3.0.0\n",
            "  Downloading oauthlib-3.1.0-py2.py3-none-any.whl (147 kB)\n",
            "Collecting zipp>=0.5\n",
            "  Downloading zipp-3.4.1-py3-none-any.whl (5.2 kB)\n",
            "Collecting pycparser\n",
            "  Downloading pycparser-2.20-py2.py3-none-any.whl (112 kB)\n",
            "Collecting msal<2.0.0,>=1.3.0\n",
            "  Downloading msal-1.10.0-py2.py3-none-any.whl (60 kB)\n",
            "Collecting msal-extensions~=0.2.2\n",
            "  Downloading msal_extensions-0.2.2-py2.py3-none-any.whl (15 kB)\n",
            "Collecting azure-core<2.0.0,>=1.0.0\n",
            "  Downloading azure_core-1.13.0-py2.py3-none-any.whl (133 kB)\n",
            "Collecting distro>=1.2.0\n",
            "  Downloading distro-1.5.0-py2.py3-none-any.whl (18 kB)\n",
            "Collecting portalocker~=1.0; platform_system != \"Windows\"\n",
            "  Downloading portalocker-1.7.1-py2.py3-none-any.whl (10 kB)\n",
            "Building wheels for collected packages: wrapt, termcolor, json-logging-py, liac-arff, fusepy\n",
            "  Building wheel for wrapt (setup.py): started\n",
            "  Building wheel for wrapt (setup.py): finished with status 'done'\n",
            "  Created wheel for wrapt: filename=wrapt-1.11.1-cp36-cp36m-linux_x86_64.whl size=66705 sha256=48df51c2349c302f96de6ecc57c54771d5839771b26b7e1fdef1a35c5fe5d07b\n",
            "  Stored in directory: /root/.cache/pip/wheels/94/0f/ec/66085641573800014bb0c8b657f3366eff641c42df79abbfe9\n",
            "  Building wheel for termcolor (setup.py): started\n",
            "  Building wheel for termcolor (setup.py): finished with status 'done'\n",
            "  Created wheel for termcolor: filename=termcolor-1.1.0-py3-none-any.whl size=4830 sha256=938a0daed8089331cdf67ea9a9847421776937b7f686c498c0cc5fea0608c720\n",
            "  Stored in directory: /root/.cache/pip/wheels/93/2a/eb/e58dbcbc963549ee4f065ff80a59f274cc7210b6eab962acdc\n",
            "  Building wheel for json-logging-py (setup.py): started\n",
            "  Building wheel for json-logging-py (setup.py): finished with status 'done'\n",
            "  Created wheel for json-logging-py: filename=json_logging_py-0.2-py3-none-any.whl size=3924 sha256=563f6be989e7e15f5889e1d6e41327e4703f73e831963d33d00a2566487b8f6e\n",
            "  Stored in directory: /root/.cache/pip/wheels/e2/1d/52/535a274b9c2ce7d4064838f2bdb62013801281ef7d7f21e2ee\n",
            "  Building wheel for liac-arff (setup.py): started\n",
            "  Building wheel for liac-arff (setup.py): finished with status 'done'\n",
            "  Created wheel for liac-arff: filename=liac_arff-2.5.0-py3-none-any.whl size=11730 sha256=37b7742447a9316822177b540ea075925246b54279191eb5e5832a05942cde14\n",
            "  Stored in directory: /root/.cache/pip/wheels/53/ba/da/8562a6a6dbb428fd1ecc21053106df3948645cd991958f669b\n",
            "  Building wheel for fusepy (setup.py): started\n",
            "  Building wheel for fusepy (setup.py): finished with status 'done'\n",
            "  Created wheel for fusepy: filename=fusepy-3.0.1-py3-none-any.whl size=10504 sha256=47434ffde6bcd2670b77662482b2e544a8ca8c8ee309e022d931208eb65b2d7d\n",
            "  Stored in directory: /root/.cache/pip/wheels/21/5c/83/1dd7e8a232d12227e5410120f4374b33adeb4037473105b079\n",
            "Successfully built wrapt termcolor json-logging-py liac-arff fusepy\n",
            "Installing collected packages: wrapt, six, python-dateutil, pytz, numpy, inference-schema, termcolor, gast, protobuf, h5py, google-pasta, keras-preprocessing, absl-py, chardet, urllib3, idna, requests, grpcio, tensorboard-plugin-wit, oauthlib, requests-oauthlib, pyasn1, rsa, cachetools, pyasn1-modules, google-auth, google-auth-oauthlib, zipp, typing-extensions, importlib-metadata, markdown, werkzeug, tensorboard, tensorflow-estimator, astunparse, flatbuffers, opt-einsum, tensorflow, joblib, pyyaml, scipy, keras, pillow, MarkupSafe, Jinja2, click, itsdangerous, Flask, azure-common, isodate, msrest, PyJWT, pycparser, cffi, cryptography, adal, msrestazure, azure-mgmt-storage, pyopenssl, ndg-httpsclient, jsonpickle, azure-mgmt-resource, ruamel.yaml.clib, ruamel.yaml, contextlib2, azure-mgmt-containerregistry, azure-mgmt-authorization, jeepney, SecretStorage, pathspec, websocket-client, docker, backports.weakref, backports.tempfile, jmespath, azure-graphrbac, azure-mgmt-keyvault, azureml-core, azureml-contrib-services, gunicorn, configparser, applicationinsights, json-logging-py, dill, liac-arff, pandas, azureml-model-management-sdk, pyarrow, cloudpickle, azureml-dataprep-native, msal, portalocker, msal-extensions, azure-core, azure-identity, azureml-dataprep-rslex, distro, dotnetcore2, azureml-dataprep, fusepy, azureml-dataset-runtime, azureml-defaults\n",
            "Successfully installed Flask-1.1.2 Jinja2-2.11.3 MarkupSafe-1.1.1 PyJWT-2.0.1 SecretStorage-3.3.1 absl-py-0.12.0 adal-1.2.6 applicationinsights-0.11.9 astunparse-1.6.3 azure-common-1.1.27 azure-core-1.13.0 azure-graphrbac-0.61.1 azure-identity-1.4.1 azure-mgmt-authorization-0.61.0 azure-mgmt-containerregistry-2.8.0 azure-mgmt-keyvault-2.2.0 azure-mgmt-resource-12.1.0 azure-mgmt-storage-11.2.0 azureml-contrib-services-1.25.0 azureml-core-1.25.0 azureml-dataprep-2.11.2 azureml-dataprep-native-30.0.0 azureml-dataprep-rslex-1.9.1 azureml-dataset-runtime-1.25.0 azureml-defaults-1.25.0 azureml-model-management-sdk-1.0.1b6.post1 backports.tempfile-1.0 backports.weakref-1.0.post1 cachetools-4.2.1 cffi-1.14.5 chardet-4.0.0 click-7.1.2 cloudpickle-1.6.0 configparser-3.7.4 contextlib2-0.6.0.post1 cryptography-3.4.7 dill-0.3.3 distro-1.5.0 docker-4.4.4 dotnetcore2-2.1.20 flatbuffers-1.12 fusepy-3.0.1 gast-0.3.3 google-auth-1.28.0 google-auth-oauthlib-0.4.4 google-pasta-0.2.0 grpcio-1.32.0 gunicorn-19.9.0 h5py-2.10.0 idna-2.10 importlib-metadata-3.10.0 inference-schema-1.1.0 isodate-0.6.0 itsdangerous-1.1.0 jeepney-0.6.0 jmespath-0.10.0 joblib-1.0.1 json-logging-py-0.2 jsonpickle-2.0.0 keras-2.4.3 keras-preprocessing-1.1.2 liac-arff-2.5.0 markdown-3.3.4 msal-1.10.0 msal-extensions-0.2.2 msrest-0.6.21 msrestazure-0.6.4 ndg-httpsclient-0.5.1 numpy-1.19.5 oauthlib-3.1.0 opt-einsum-3.3.0 pandas-1.1.5 pathspec-0.8.1 pillow-5.4.1 portalocker-1.7.1 protobuf-3.15.7 pyarrow-1.0.1 pyasn1-0.4.8 pyasn1-modules-0.2.8 pycparser-2.20 pyopenssl-20.0.1 python-dateutil-2.8.1 pytz-2021.1 pyyaml-5.4.1 requests-2.25.1 requests-oauthlib-1.3.0 rsa-4.7.2 ruamel.yaml-0.17.2 ruamel.yaml.clib-0.2.2 scipy-1.5.4 six-1.15.0 tensorboard-2.4.1 tensorboard-plugin-wit-1.8.0 tensorflow-2.4.1 tensorflow-estimator-2.4.0 termcolor-1.1.0 typing-extensions-3.7.4.3 urllib3-1.26.4 websocket-client-0.58.0 werkzeug-1.0.1 wrapt-1.11.1 zipp-3.4.1\n",
            "\u001b[91m\n",
            "\n",
            "==> WARNING: A newer version of conda exists. <==\n",
            "  current version: 4.7.12\n",
            "  latest version: 4.9.2\n",
            "\n",
            "Please update conda by running\n",
            "\n",
            "    $ conda update -n base -c defaults conda\n",
            "\n",
            "\n",
            "\u001b[0m\n",
            "#\n",
            "# To activate this environment, use\n",
            "#\n",
            "#     $ conda activate /azureml-envs/azureml_a86867ab0c88b0e11c9e15473e0b34b0\n",
            "#\n",
            "# To deactivate an active environment, use\n",
            "#\n",
            "#     $ conda deactivate\n",
            "\n",
            "WARNING: /root/.conda/pkgs does not exist\n",
            "Removing intermediate container ab9c446fd253\n",
            " ---> cb5781dc22a7\n",
            "Step 9/18 : ENV PATH /azureml-envs/azureml_a86867ab0c88b0e11c9e15473e0b34b0/bin:$PATH\n",
            " ---> Running in bc4733804251\n",
            "Removing intermediate container bc4733804251\n",
            " ---> 7f3948ea3629\n",
            "Step 10/18 : COPY azureml-environment-setup/send_conda_dependencies.py azureml-environment-setup/send_conda_dependencies.py\n",
            " ---> a3057d782fbf\n",
            "Step 11/18 : COPY azureml-environment-setup/environment_context.json azureml-environment-setup/environment_context.json\n",
            " ---> c7022dfe9491\n",
            "Step 12/18 : RUN python /azureml-environment-setup/send_conda_dependencies.py -p /azureml-envs/azureml_a86867ab0c88b0e11c9e15473e0b34b0\n",
            " ---> Running in 2f360803ae86\n",
            "Report materialized dependencies for the environment\n",
            "Reading environment context\n",
            "Exporting conda environment\n",
            "Sending request with materialized conda environment details\n",
            "Successfully sent materialized environment details\n",
            "Removing intermediate container 2f360803ae86\n",
            " ---> 1a4bcc889e8c\n",
            "Step 13/18 : ENV AZUREML_CONDA_ENVIRONMENT_PATH /azureml-envs/azureml_a86867ab0c88b0e11c9e15473e0b34b0\n",
            " ---> Running in 054e1c6fd766\n",
            "Removing intermediate container 054e1c6fd766\n",
            " ---> fc6b5d4087a1\n",
            "Step 14/18 : ENV LD_LIBRARY_PATH /azureml-envs/azureml_a86867ab0c88b0e11c9e15473e0b34b0/lib:$LD_LIBRARY_PATH\n",
            " ---> Running in c9062e533611\n",
            "Removing intermediate container c9062e533611\n",
            " ---> a3eb3e1798cb\n",
            "Step 15/18 : COPY azureml-environment-setup/spark_cache.py azureml-environment-setup/log4j.properties /azureml-environment-setup/\n",
            " ---> 6b5e6130f5da\n",
            "Step 16/18 : RUN if [ $SPARK_HOME ]; then /bin/bash -c '$SPARK_HOME/bin/spark-submit  /azureml-environment-setup/spark_cache.py'; fi\n",
            " ---> Running in 528ba576fae9\n",
            "Removing intermediate container 528ba576fae9\n",
            " ---> eeaa9334eccf\n",
            "Step 17/18 : ENV AZUREML_ENVIRONMENT_IMAGE True\n",
            " ---> Running in 228f5a2742da\n",
            "Removing intermediate container 228f5a2742da\n",
            " ---> d9ff0de524b2\n",
            "Step 18/18 : CMD [\"bash\"]\n",
            " ---> Running in 585ba3d5a9ee\n",
            "Removing intermediate container 585ba3d5a9ee\n",
            " ---> 5e77906473cd\n",
            "Successfully built 5e77906473cd\n",
            "Successfully tagged e1beb0b7f8eb4722a424ef506535ae8b.azurecr.io/azureml/azureml_5a06fb0f08028ccc6834e804b680fab7:latest\n",
            "Successfully tagged e1beb0b7f8eb4722a424ef506535ae8b.azurecr.io/azureml/azureml_5a06fb0f08028ccc6834e804b680fab7:1\n",
            "2021/04/04 02:08:13 Successfully executed container: acb_step_0\n",
            "2021/04/04 02:08:13 Executing step ID: acb_step_1. Timeout(sec): 5400, Working directory: '', Network: 'acb_default_network'\n",
            "2021/04/04 02:08:13 Pushing image: e1beb0b7f8eb4722a424ef506535ae8b.azurecr.io/azureml/azureml_5a06fb0f08028ccc6834e804b680fab7:1, attempt 1\n",
            "The push refers to repository [e1beb0b7f8eb4722a424ef506535ae8b.azurecr.io/azureml/azureml_5a06fb0f08028ccc6834e804b680fab7]\n",
            "f68396fdf137: Preparing\n",
            "518fbc889106: Preparing\n",
            "ddbc432669cc: Preparing\n",
            "7d6f8a8c3f50: Preparing\n",
            "a127d08ef9ee: Preparing\n",
            "177bd9fe29ca: Preparing\n",
            "52dac02d7624: Preparing\n",
            "6c952f976076: Preparing\n",
            "1b10142ef722: Preparing\n",
            "303a8fd39764: Preparing\n",
            "2d9074798077: Preparing\n",
            "710fe8abc588: Preparing\n",
            "fcf8f624203c: Preparing\n",
            "5b068a34ffe7: Preparing\n",
            "51a74f86a3cf: Preparing\n",
            "95474adf3c5c: Preparing\n",
            "846cc75ad492: Preparing\n",
            "5276d2b930fc: Preparing\n",
            "e6feec0db89a: Preparing\n",
            "697949baa658: Preparing\n",
            "935c56d8b3f9: Preparing\n",
            "710fe8abc588: Waiting\n",
            "fcf8f624203c: Waiting\n",
            "5b068a34ffe7: Waiting\n",
            "95474adf3c5c: Waiting\n",
            "846cc75ad492: Waiting\n",
            "5276d2b930fc: Waiting\n",
            "e6feec0db89a: Waiting\n",
            "697949baa658: Waiting\n",
            "935c56d8b3f9: Waiting\n",
            "51a74f86a3cf: Waiting\n",
            "177bd9fe29ca: Waiting\n",
            "6c952f976076: Waiting\n",
            "1b10142ef722: Waiting\n",
            "303a8fd39764: Waiting\n",
            "2d9074798077: Waiting\n",
            "52dac02d7624: Waiting\n",
            "ddbc432669cc: Pushed\n",
            "7d6f8a8c3f50: Pushed\n",
            "f68396fdf137: Pushed\n",
            "518fbc889106: Pushed\n",
            "177bd9fe29ca: Pushed\n",
            "52dac02d7624: Pushed\n",
            "1b10142ef722: Pushed\n",
            "6c952f976076: Pushed\n",
            "303a8fd39764: Pushed\n",
            "2d9074798077: Pushed\n",
            "710fe8abc588: Pushed\n",
            "95474adf3c5c: Pushed\n",
            "51a74f86a3cf: Pushed\n",
            "5276d2b930fc: Pushed\n",
            "fcf8f624203c: Pushed\n",
            "e6feec0db89a: Pushed\n",
            "697949baa658: Pushed\n",
            "5b068a34ffe7: Pushed\n",
            "846cc75ad492: Pushed\n",
            "935c56d8b3f9: Pushed\n",
            "a127d08ef9ee: Pushed\n",
            "1: digest: sha256:d9e01df101c38dfd314c366b4b374410dc7fdea395c20ca334abd94bfa0920ca size: 4721\n",
            "2021/04/04 02:10:52 Successfully pushed image: e1beb0b7f8eb4722a424ef506535ae8b.azurecr.io/azureml/azureml_5a06fb0f08028ccc6834e804b680fab7:1\n",
            "2021/04/04 02:10:52 Executing step ID: acb_step_2. Timeout(sec): 5400, Working directory: '', Network: 'acb_default_network'\n",
            "2021/04/04 02:10:52 Pushing image: e1beb0b7f8eb4722a424ef506535ae8b.azurecr.io/azureml/azureml_5a06fb0f08028ccc6834e804b680fab7:latest, attempt 1\n",
            "The push refers to repository [e1beb0b7f8eb4722a424ef506535ae8b.azurecr.io/azureml/azureml_5a06fb0f08028ccc6834e804b680fab7]\n",
            "f68396fdf137: Preparing\n",
            "518fbc889106: Preparing\n",
            "ddbc432669cc: Preparing\n",
            "7d6f8a8c3f50: Preparing\n",
            "a127d08ef9ee: Preparing\n",
            "177bd9fe29ca: Preparing\n",
            "52dac02d7624: Preparing\n",
            "6c952f976076: Preparing\n",
            "1b10142ef722: Preparing\n",
            "303a8fd39764: Preparing\n",
            "2d9074798077: Preparing\n",
            "710fe8abc588: Preparing\n",
            "fcf8f624203c: Preparing\n",
            "5b068a34ffe7: Preparing\n",
            "51a74f86a3cf: Preparing\n",
            "95474adf3c5c: Preparing\n",
            "846cc75ad492: Preparing\n",
            "5276d2b930fc: Preparing\n",
            "e6feec0db89a: Preparing\n",
            "697949baa658: Preparing\n",
            "935c56d8b3f9: Preparing\n",
            "177bd9fe29ca: Waiting\n",
            "52dac02d7624: Waiting\n",
            "6c952f976076: Waiting\n",
            "1b10142ef722: Waiting\n",
            "303a8fd39764: Waiting\n",
            "2d9074798077: Waiting\n",
            "710fe8abc588: Waiting\n",
            "fcf8f624203c: Waiting\n",
            "5b068a34ffe7: Waiting\n",
            "51a74f86a3cf: Waiting\n",
            "95474adf3c5c: Waiting\n",
            "846cc75ad492: Waiting\n",
            "5276d2b930fc: Waiting\n",
            "e6feec0db89a: Waiting\n",
            "697949baa658: Waiting\n",
            "935c56d8b3f9: Waiting\n",
            "ddbc432669cc: Layer already exists\n",
            "518fbc889106: Layer already exists\n",
            "f68396fdf137: Layer already exists\n",
            "177bd9fe29ca: Layer already exists\n",
            "7d6f8a8c3f50: Layer already exists\n",
            "52dac02d7624: Layer already exists\n",
            "303a8fd39764: Layer already exists\n",
            "1b10142ef722: Layer already exists\n",
            "2d9074798077: Layer already exists\n",
            "fcf8f624203c: Layer already exists\n",
            "710fe8abc588: Layer already exists\n",
            "95474adf3c5c: Layer already exists\n",
            "51a74f86a3cf: Layer already exists\n",
            "5b068a34ffe7: Layer already exists\n",
            "5276d2b930fc: Layer already exists\n",
            "e6feec0db89a: Layer already exists\n",
            "6c952f976076: Layer already exists\n",
            "697949baa658: Layer already exists\n",
            "a127d08ef9ee: Layer already exists\n",
            "846cc75ad492: Layer already exists\n",
            "935c56d8b3f9: Layer already exists\n",
            "latest: digest: sha256:d9e01df101c38dfd314c366b4b374410dc7fdea395c20ca334abd94bfa0920ca size: 4721\n",
            "2021/04/04 02:10:59 Successfully pushed image: e1beb0b7f8eb4722a424ef506535ae8b.azurecr.io/azureml/azureml_5a06fb0f08028ccc6834e804b680fab7:latest\n",
            "2021/04/04 02:10:59 Step ID: acb_step_0 marked as successful (elapsed time in seconds: 283.441731)\n",
            "2021/04/04 02:10:59 Populating digests for step ID: acb_step_0...\n",
            "2021/04/04 02:11:03 Successfully populated digests for step ID: acb_step_0\n",
            "2021/04/04 02:11:03 Step ID: acb_step_1 marked as successful (elapsed time in seconds: 159.570676)\n",
            "2021/04/04 02:11:03 Step ID: acb_step_2 marked as successful (elapsed time in seconds: 6.905141)\n",
            "2021/04/04 02:11:03 The following dependencies were found:\n",
            "2021/04/04 02:11:03 \n",
            "- image:\n",
            "    registry: e1beb0b7f8eb4722a424ef506535ae8b.azurecr.io\n",
            "    repository: azureml/azureml_5a06fb0f08028ccc6834e804b680fab7\n",
            "    tag: latest\n",
            "    digest: sha256:d9e01df101c38dfd314c366b4b374410dc7fdea395c20ca334abd94bfa0920ca\n",
            "  runtime-dependency:\n",
            "    registry: mcr.microsoft.com\n",
            "    repository: azureml/intelmpi2018.3-ubuntu16.04\n",
            "    tag: 20210220.v1\n",
            "    digest: sha256:45f047999ab2ced61a2fd0cf8d8421f796ca05b8423c1a0ac652791a321bff9a\n",
            "  git: {}\n",
            "- image:\n",
            "    registry: e1beb0b7f8eb4722a424ef506535ae8b.azurecr.io\n",
            "    repository: azureml/azureml_5a06fb0f08028ccc6834e804b680fab7\n",
            "    tag: \"1\"\n",
            "    digest: sha256:d9e01df101c38dfd314c366b4b374410dc7fdea395c20ca334abd94bfa0920ca\n",
            "  runtime-dependency:\n",
            "    registry: mcr.microsoft.com\n",
            "    repository: azureml/intelmpi2018.3-ubuntu16.04\n",
            "    tag: 20210220.v1\n",
            "    digest: sha256:45f047999ab2ced61a2fd0cf8d8421f796ca05b8423c1a0ac652791a321bff9a\n",
            "  git: {}\n",
            "\n",
            "Run ID: cam was successful after 7m39s\n",
            "Package creation Succeeded\n",
            "Logging into Docker registry e1beb0b7f8eb4722a424ef506535ae8b.azurecr.io\n",
            "Logging into Docker registry e1beb0b7f8eb4722a424ef506535ae8b.azurecr.io\n",
            "Building Docker image from Dockerfile...\n",
            "Step 1/5 : FROM e1beb0b7f8eb4722a424ef506535ae8b.azurecr.io/azureml/azureml_5a06fb0f08028ccc6834e804b680fab7\n",
            " ---> 5e77906473cd\n",
            "Step 2/5 : COPY azureml-app /var/azureml-app\n",
            " ---> 8062d555749c\n",
            "Step 3/5 : RUN mkdir -p '/var/azureml-app' && echo eyJhY2NvdW50Q29udGV4dCI6eyJzdWJzY3JpcHRpb25JZCI6IjYwYjExZDA0LTQ5ZTEtNDdjOS04NzY4LWYxNjllNWI0ZDBmYiIsInJlc291cmNlR3JvdXBOYW1lIjoicmVzb3VyY2VzIiwiYWNjb3VudE5hbWUiOiJtYWNoaW5lbGVhcm5pbmciLCJ3b3Jrc3BhY2VJZCI6ImUxYmViMGI3LWY4ZWItNDcyMi1hNDI0LWVmNTA2NTM1YWU4YiJ9LCJtb2RlbHMiOnt9LCJtb2RlbHNJbmZvIjp7fX0= | base64 --decode > /var/azureml-app/model_config_map.json\n",
            " ---> Running in 6802ffb644e1\n",
            " ---> 40c02dbc46a9\n",
            "Step 4/5 : RUN mv '/var/azureml-app/tmpba3h5_1e.py' /var/azureml-app/main.py\n",
            " ---> Running in eb9e652f94e8\n",
            " ---> 17f8f512920d\n",
            "Step 5/5 : CMD [\"runsvdir\",\"/var/runit\"]\n",
            " ---> Running in a917bdf14918\n",
            " ---> 2b8f34c09ee2\n",
            "Successfully built 2b8f34c09ee2\n",
            "Successfully tagged myservice:latest\n",
            "Container has been successfully cleaned up.\n",
            "Image sha256:3edeab48e49f6c806cb248c5a8b82096594c764b84b2471f964ee3d62f4192c3 successfully removed.\n",
            "Starting Docker container...\n",
            "Docker container running.\n"
          ]
        }
      ],
      "execution_count": 59,
      "metadata": {
        "collapsed": true,
        "jupyter": {
          "source_hidden": false,
          "outputs_hidden": false
        },
        "nteract": {
          "transient": {
            "deleting": false
          }
        },
        "gather": {
          "logged": 1617502368267
        }
      }
    }
  ],
  "metadata": {
    "kernelspec": {
      "name": "python3-azureml",
      "language": "python",
      "display_name": "Python 3.6 - AzureML"
    },
    "language_info": {
      "name": "python",
      "version": "3.6.9",
      "mimetype": "text/x-python",
      "codemirror_mode": {
        "name": "ipython",
        "version": 3
      },
      "pygments_lexer": "ipython3",
      "nbconvert_exporter": "python",
      "file_extension": ".py"
    },
    "kernel_info": {
      "name": "python3-azureml"
    },
    "nteract": {
      "version": "nteract-front-end@1.0.0"
    },
    "microsoft": {
      "host": {
        "AzureML": {
          "notebookHasBeenCompleted": true
        }
      }
    }
  },
  "nbformat": 4,
  "nbformat_minor": 2
}
